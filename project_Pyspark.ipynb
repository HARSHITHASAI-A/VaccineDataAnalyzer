{
 "cells": [
  {
   "cell_type": "code",
   "execution_count": 1,
   "metadata": {},
   "outputs": [],
   "source": [
    "import findspark\n",
    "findspark.init()\n",
    "import pyspark\n",
    "import random \n",
    "from pyspark.context import SparkContext\n",
    "from pyspark.sql.session import SparkSession\n",
    "sc = SparkContext('local')\n",
    "spark = SparkSession(sc)\n",
    "\n",
    "# sc = pyspark.SparkContext(appName=\"myAppName\")\n"
   ]
  },
  {
   "cell_type": "code",
   "execution_count": 2,
   "metadata": {},
   "outputs": [
    {
     "name": "stdout",
     "output_type": "stream",
     "text": [
      "+-------------------+-------------------+-------------+----------+--------+--------------------+----------+---------------+--------------------+-----+--------------------+-----------+--------------------+------+-------------+--------------+-----------+--------+--------+--------------------+-------+---------+-----+----+----+------+----------+-------+----------+--------------------+------------+\n",
      "|                 id|    conversation_id|   created_at|      date|    time|            timezone|   user_id|       username|                name|place|               tweet|   mentions|                urls|photos|replies_count|retweets_count|likes_count|hashtags|cashtags|                link|retweet|quote_url|video|near| geo|source|user_rt_id|user_rt|retweet_id|            reply_to|retweet_date|\n",
      "+-------------------+-------------------+-------------+----------+--------+--------------------+----------+---------------+--------------------+-----+--------------------+-----------+--------------------+------+-------------+--------------+-----------+--------+--------+--------------------+-------+---------+-----+----+----+------+----------+-------+----------+--------------------+------------+\n",
      "|1179751797377748992|1179679963458392065|1570109721000|2019-10-03|16:35:21|E. Africa Standar...| 118965754|peaceahappiness|    Ein guter Freund| null|Thinks:  ... teta...|['carlzha']|                  []|    []|            0|             0|          0|      []|      []|https://twitter.c...|  False|     null|    0|null|null|  null|      null|   null|      null|[{'user_id': '118...|        null|\n",
      "|1179751771780141056|1179751771780141056|1570109715000|2019-10-03|16:35:15|E. Africa Standar...|2798966764|briannacelegill|Brianna Celeste G...| null|Forced Vaccinatio...|['youtube']|['https://youtu.b...|    []|            0|             0|          0|      []|      []|https://twitter.c...|  False|     null|    0|null|null|  null|      null|   null|      null|[{'user_id': '279...|        null|\n",
      "+-------------------+-------------------+-------------+----------+--------+--------------------+----------+---------------+--------------------+-----+--------------------+-----------+--------------------+------+-------------+--------------+-----------+--------+--------+--------------------+-------+---------+-----+----+----+------+----------+-------+----------+--------------------+------------+\n",
      "only showing top 2 rows\n",
      "\n"
     ]
    }
   ],
   "source": [
    "peopleFile = \"C:/Users/avadavelli/Downloads/twitter-vaccination-dataset/vaccination2.csv\"\n",
    "reader = spark.read \n",
    "reader.option(\"header\",True)\n",
    "reader.option(\"inferSchema\",True)\n",
    "df = reader.csv(peopleFile)\n",
    "df.show(2)\n",
    "# df.head()\n",
    "# sc.stop()"
   ]
  },
  {
   "cell_type": "code",
   "execution_count": 5,
   "metadata": {},
   "outputs": [
    {
     "name": "stdout",
     "output_type": "stream",
     "text": [
      "Columns are: ['id', 'conversation_id', 'created_at', 'date', 'time', 'timezone', 'user_id', 'username', 'name', 'place', 'tweet', 'mentions', 'urls', 'photos', 'replies_count', 'retweets_count', 'likes_count', 'hashtags', 'cashtags', 'link', 'retweet', 'quote_url', 'video', 'near', 'geo', 'source', 'user_rt_id', 'user_rt', 'retweet_id', 'reply_to', 'retweet_date']\n",
      "root\n",
      " |-- id: string (nullable = true)\n",
      " |-- conversation_id: string (nullable = true)\n",
      " |-- created_at: string (nullable = true)\n",
      " |-- date: string (nullable = true)\n",
      " |-- time: string (nullable = true)\n",
      " |-- timezone: string (nullable = true)\n",
      " |-- user_id: long (nullable = true)\n",
      " |-- username: string (nullable = true)\n",
      " |-- name: string (nullable = true)\n",
      " |-- place: string (nullable = true)\n",
      " |-- tweet: string (nullable = true)\n",
      " |-- mentions: string (nullable = true)\n",
      " |-- urls: string (nullable = true)\n",
      " |-- photos: string (nullable = true)\n",
      " |-- replies_count: string (nullable = true)\n",
      " |-- retweets_count: string (nullable = true)\n",
      " |-- likes_count: string (nullable = true)\n",
      " |-- hashtags: string (nullable = true)\n",
      " |-- cashtags: string (nullable = true)\n",
      " |-- link: string (nullable = true)\n",
      " |-- retweet: string (nullable = true)\n",
      " |-- quote_url: string (nullable = true)\n",
      " |-- video: string (nullable = true)\n",
      " |-- near: string (nullable = true)\n",
      " |-- geo: string (nullable = true)\n",
      " |-- source: string (nullable = true)\n",
      " |-- user_rt_id: string (nullable = true)\n",
      " |-- user_rt: string (nullable = true)\n",
      " |-- retweet_id: string (nullable = true)\n",
      " |-- reply_to: string (nullable = true)\n",
      " |-- retweet_date: string (nullable = true)\n",
      "\n",
      "Schema:  None\n"
     ]
    }
   ],
   "source": [
    "# print('Dataset size:',df.describe())\n",
    "print('Columns are:',df.columns)\n",
    "print('Schema: ', df.printSchema())"
   ]
  },
  {
   "cell_type": "code",
   "execution_count": 20,
   "metadata": {},
   "outputs": [
    {
     "data": {
      "text/plain": [
       "DataFrame[date: date, tweet: string, hashtags: string]"
      ]
     },
     "execution_count": 20,
     "metadata": {},
     "output_type": "execute_result"
    }
   ],
   "source": [
    "from pyspark.sql.types import DateType\n",
    "df = df.select(df['date'].cast(DateType()), \"tweet\", \"hashtags\") \n",
    "df"
   ]
  },
  {
   "cell_type": "code",
   "execution_count": 21,
   "metadata": {},
   "outputs": [
    {
     "name": "stdout",
     "output_type": "stream",
     "text": [
      "+----------+--------------------+--------------------+\n",
      "|      date|               tweet|            hashtags|\n",
      "+----------+--------------------+--------------------+\n",
      "|2019-10-03|Thinks:  ... teta...|                  []|\n",
      "|2019-10-03|Forced Vaccinatio...|                  []|\n",
      "|2019-10-03|We have had our f...|                  []|\n",
      "|2019-10-03|That's true, they...|                  []|\n",
      "|2019-10-03|Flu vaccination d...|         ['#fluvax']|\n",
      "|2019-10-03|What did farmers ...|['#tbfree', '#bad...|\n",
      "|2019-10-03|An employee at Tu...|                  []|\n",
      "|2019-10-03|#Nigeria: An outb...|        ['#nigeria']|\n",
      "|2019-10-03|Impressive number...|['#vaccination', ...|\n",
      "|2019-10-03|⁦@DrBGellin⁩ @Sab...|['#research', '#v...|\n",
      "+----------+--------------------+--------------------+\n",
      "only showing top 10 rows\n",
      "\n"
     ]
    }
   ],
   "source": [
    "df.show(10)"
   ]
  }
 ],
 "metadata": {
  "kernelspec": {
   "display_name": "Python 3",
   "language": "python",
   "name": "python3"
  },
  "language_info": {
   "codemirror_mode": {
    "name": "ipython",
    "version": 3
   },
   "file_extension": ".py",
   "mimetype": "text/x-python",
   "name": "python",
   "nbconvert_exporter": "python",
   "pygments_lexer": "ipython3",
   "version": "3.7.6"
  }
 },
 "nbformat": 4,
 "nbformat_minor": 4
}
